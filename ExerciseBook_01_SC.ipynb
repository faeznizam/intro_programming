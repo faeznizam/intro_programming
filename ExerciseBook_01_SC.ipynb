{
 "cells": [
  {
   "cell_type": "markdown",
   "metadata": {},
   "source": [
    "# Python Exercise Book 01"
   ]
  },
  {
   "cell_type": "markdown",
   "metadata": {},
   "source": [
    "The exercises in this notebook are provided to help you develop your analysis skills by\n",
    "giving you the opportunity to practice breaking small problems down into\n",
    "sequences of steps. Also, completing these exercises will help you become\n",
    "familiar with Python’s syntax."
   ]
  },
  {
   "cell_type": "markdown",
   "metadata": {},
   "source": [
    "### 1- Area of a Room in Square Meters"
   ]
  },
  {
   "cell_type": "code",
   "execution_count": null,
   "metadata": {},
   "outputs": [],
   "source": [
    "# Your Code\n",
    "width = float(input(\"Enter Width= \"))\n",
    "length = float(input(\"Enter Length= \"))\n",
    "area = width*length\n",
    "print(\"Area= {0:.2f} square meters\".format(area))\n"
   ]
  },
  {
   "cell_type": "markdown",
   "metadata": {},
   "source": [
    "### 2- Area of a Field in Acre"
   ]
  },
  {
   "cell_type": "code",
   "execution_count": null,
   "metadata": {},
   "outputs": [],
   "source": [
    "# Your Code\n",
    "\n",
    "width = float(input(\"Enter Width= \"))\n",
    "length = float(input(\"Enter Length= \"))\n",
    "\n",
    "area = width*length\n",
    "\n",
    "print(\"Area= {0:.2f} acres\".format(area/4046.86))"
   ]
  },
  {
   "cell_type": "markdown",
   "metadata": {},
   "source": [
    "### 3- Tax and Tip"
   ]
  },
  {
   "cell_type": "code",
   "execution_count": null,
   "metadata": {},
   "outputs": [],
   "source": [
    "##### Your Code\n",
    "\n",
    "# Menu\n",
    "set_1 = \"Set 1 : Ayam masak merah with nasi and plain water\"\n",
    "\n",
    "price = 7.00\n",
    "\n",
    "print(\"Available set : \")\n",
    "print('\\n')\n",
    "print(set_1)\n",
    "print('\\n')\n",
    "\n",
    "# Input\n",
    "Amount = float(input('How much do you want to order? : '))\n",
    "print('\\n')\n",
    "\n",
    "tip = float(input('How much do you want to tip? :'))\n",
    "print('\\n')\n",
    "\n",
    "# Calculate\n",
    "grandTotal = Amount * price\n",
    "tax = (6/100) * grandTotal\n",
    "\n",
    "# Print\n",
    "print('Your Grand Total : {}'.format(grandTotal))\n",
    "print('Tax amount : {}'.format(tax))\n",
    "print('Tip amount : {}'.format(tip))\n",
    "\n"
   ]
  },
  {
   "cell_type": "code",
   "execution_count": null,
   "metadata": {},
   "outputs": [],
   "source": [
    "# lecturer ans\n",
    "\n",
    "tax_rate = 0.06\n",
    "tip_rate = 0.12\n",
    "\n",
    "cost = float(input('Enter the cost of the meal :'))\n",
    "\n",
    "tax = cost*tax_rate\n",
    "tip = cost*tip_rate\n",
    "\n",
    "total = cost + tax + tip\n",
    "print('The tax is {} and the tip is {}, making the total {}'.format(tax, tip, total))"
   ]
  },
  {
   "cell_type": "markdown",
   "metadata": {},
   "source": [
    "### 4- Sum of the First n Positive Integers"
   ]
  },
  {
   "cell_type": "code",
   "execution_count": null,
   "metadata": {},
   "outputs": [],
   "source": [
    "# Your Code\n",
    "\n",
    "number = int(input('Input positive number : '))\n",
    "while (number <= 0):\n",
    "    print('You have entered a negative number!')\n",
    "    number = int(input('Please input positive number :'))\n",
    "\n",
    "sum = int((number*(number + 1))/2)\n",
    "print('The first n positive integers is {}'.format(sum))"
   ]
  },
  {
   "cell_type": "code",
   "execution_count": null,
   "metadata": {},
   "outputs": [],
   "source": [
    "# lecturer ans\n",
    "\n",
    "n = int(input('Enter positive number: '))\n",
    "\n",
    "Sum = n*(n+1)/2\n",
    "\n",
    "print('The sum of the first {} positive number is {}'.format(n,Sum))\n",
    "\n",
    "\n"
   ]
  },
  {
   "cell_type": "code",
   "execution_count": null,
   "metadata": {},
   "outputs": [],
   "source": [
    "# if using loop\n",
    "n = int(input('Enter positive number: '))\n",
    "\n",
    "Sum = 0\n",
    "for i in range(n+1):\n",
    "    Sum+=i\n",
    "    \n",
    "print('The sum of the first {} positive number is {}'.format(n,Sum))"
   ]
  },
  {
   "cell_type": "markdown",
   "metadata": {},
   "source": [
    "### 5- What Color is that Square?"
   ]
  },
  {
   "cell_type": "code",
   "execution_count": null,
   "metadata": {},
   "outputs": [],
   "source": [
    "# Your Code\n",
    "\n",
    "col = input('Enter column letter: ')\n",
    "col = col.upper()\n",
    "row = int(input('Enter row number: '))\n",
    "color = \"\"\n",
    "\n",
    "if (col in ['A','C','E','G']):\n",
    "    if(row% 2 == 0):\n",
    "        color = 'White'\n",
    "    else:\n",
    "        color = 'Black'\n",
    "else:\n",
    "    if(row % 2 == 0):\n",
    "        color = 'Black'\n",
    "    else:\n",
    "        color = 'White'\n",
    "\n",
    "print('The square {}{} is {}'.format(col,row,color))"
   ]
  },
  {
   "cell_type": "markdown",
   "metadata": {},
   "source": [
    "### 6- Average"
   ]
  },
  {
   "cell_type": "code",
   "execution_count": null,
   "metadata": {},
   "outputs": [],
   "source": [
    "# Your Code\n",
    "\n",
    "evennum = 0\n",
    "oddnum = 0\n",
    "a = 1\n",
    "b = 1\n",
    "\n",
    "num = int(input('Input positive number : '))\n",
    "\n",
    "if num != 0:\n",
    "    while (num != 0):\n",
    "        if num%2 == 0:\n",
    "            evennum += num\n",
    "            a += 1\n",
    "        else:\n",
    "            oddnum += num\n",
    "            b += 1\n",
    "    num = int(input('Input positive number : '))\n",
    "\n",
    "    \n",
    "avgeven = evennum/a\n",
    "avgodd = oddnum/b\n",
    "print(avgeven)\n",
    "print(avgodd)\n"
   ]
  },
  {
   "cell_type": "code",
   "execution_count": null,
   "metadata": {},
   "outputs": [],
   "source": [
    "# Lecturer ans\n",
    "\n",
    "count = 0\n",
    "num = int(input('Enter a number: '))\n",
    "Sum = num\n",
    "\n",
    "if (num == 0):\n",
    "    print('The first number can not be zero')\n",
    "else:\n",
    "    while(num!=0):\n",
    "        num = int(input('Enter a number: '))\n",
    "        Sum+=num\n",
    "        count+=1\n",
    "\n",
    "    print('Average = {0:2f}'.format(Sum/count))"
   ]
  },
  {
   "cell_type": "markdown",
   "metadata": {},
   "source": [
    "### 7- Write a Python program to calculate the below series:\n",
    "\n",
    "$$\n",
    "S = \\frac{1}{2^0}+\\frac{1}{2^1}+\\frac{1}{2^2}+\\dotsm+\\frac{1}{2^n}\n",
    "$$\n"
   ]
  },
  {
   "cell_type": "code",
   "execution_count": null,
   "metadata": {},
   "outputs": [],
   "source": [
    "# Lecturer ans\n",
    "Sum = 0\n",
    "num = int(input('Input a number: '))\n",
    "\n",
    "for Pow in range(num):\n",
    "    Sum+= 1/2**Pow\n",
    "\n",
    "print('Sum = {}'.format(Sum))\n"
   ]
  },
  {
   "cell_type": "markdown",
   "metadata": {},
   "source": [
    "### 8- Write a Python program to calculate the below series:\n",
    "\n",
    "$$\n",
    "S = \\frac{1}{2^0}-\\frac{1}{2^1}+\\frac{1}{2^2}-\\dotsm\\pm\\frac{1}{2^n}\n",
    "$$"
   ]
  },
  {
   "cell_type": "code",
   "execution_count": null,
   "metadata": {},
   "outputs": [],
   "source": [
    "# Lecturer ans\n",
    "\n",
    "Sum = 0\n",
    "sign = 1\n",
    "\n",
    "num = int(input('Input a number: '))\n",
    "\n",
    "for Pow in range(num):\n",
    "    Sum+= 1/2**Pow\n",
    "    sign = -sign\n",
    "\n",
    "print('Sum = {}'.format(Sum))\n"
   ]
  },
  {
   "cell_type": "markdown",
   "metadata": {},
   "source": [
    "### 9- Write a program to find factorial of a number:\n",
    "The factorial of a positive integer n is equal to:\n",
    "$$ \n",
    "n!=1\\times 2 \\times 3 \\times 4\\dotsm \\times n.\n",
    "$$\n",
    "Hint: The factorial of a negative number doesn't exist. And, the factorial of 0 is 1, 0! = 1"
   ]
  },
  {
   "cell_type": "code",
   "execution_count": null,
   "metadata": {},
   "outputs": [],
   "source": [
    "# Your Code\n",
    "\n",
    "fact = 1\n",
    "i = 1\n",
    "\n",
    "num = int(input('Enter a number: '))\n",
    "if num >= 0:\n",
    "    while(i<= num):\n",
    "        fact+=i\n",
    "        i+=1\n",
    "    print('{}! = {}'.format(num,fact))\n",
    "else:\n",
    "    print('The factorial of negative number is not exist.')\n"
   ]
  },
  {
   "cell_type": "markdown",
   "metadata": {},
   "source": [
    "### 10- Write a program to generate the Fibonacci series less than a given number N.\n",
    "\n",
    "The Fibonacci numbers are the numbers in the following integer sequence.\n",
    "$$\n",
    "0, 1, 1, 2, 3, 5, 8, 13, 21, 34, 55, 89, 144,\\dotsm\n",
    "$$\n"
   ]
  },
  {
   "cell_type": "code",
   "execution_count": null,
   "metadata": {},
   "outputs": [],
   "source": [
    "# Your Code\n",
    "\n",
    "f0 = 0\n",
    "f1 = 1\n",
    "f2 = 0\n",
    "\n",
    "num = int(input('Enter a number: '))\n",
    "if num <= 1:\n",
    "    print('0', end = ' ')\n",
    "else:\n",
    "    print(f0,f1,sep=',',end=',')\n",
    "    while(f1+f0<num):\n",
    "        f2=f0+f1\n",
    "        print(f2, sep = ',', end=',')\n",
    "        f0=f1\n",
    "        f1=f2"
   ]
  },
  {
   "cell_type": "code",
   "execution_count": null,
   "metadata": {},
   "outputs": [],
   "source": [
    "# using list\n",
    "\n",
    "f0 = 0\n",
    "f1 = 1\n",
    "f2 = 0\n",
    "fibList = [0,1]\n",
    "num = int(input('Enter a number: '))\n",
    "\n",
    "while(f1+f0<num):\n",
    "    f2=f0+f1\n",
    "    fibList.append(f2)\n",
    "    f0=f1\n",
    "    f1=f2\n",
    "print(fibList)"
   ]
  },
  {
   "cell_type": "code",
   "execution_count": null,
   "metadata": {},
   "outputs": [],
   "source": [
    "fibList = [0,1]\n",
    "i = 0\n",
    "num = int(input('Enter a number:'))\n",
    "while(fibList[i]+fibList[i+1]<=num):\n",
    "    fibList.append(fibList[i]+fibList[i+1])\n",
    "    i+=1\n",
    "print(fibList)"
   ]
  },
  {
   "cell_type": "code",
   "execution_count": 19,
   "metadata": {},
   "outputs": [
    {
     "name": "stdout",
     "output_type": "stream",
     "text": [
      "9 8 7\n"
     ]
    }
   ],
   "source": [
    "import random\n",
    "\n",
    "list = [3,5,7,9,4,8]\n",
    "\n",
    "\n",
    "num1 = 0\n",
    "num2 = 0\n",
    "num3 = 0\n",
    "\n",
    "for i in list:\n",
    "    if num1 < i:\n",
    "        num3 = num2\n",
    "        num2 = num1\n",
    "        num1 = i\n",
    "    elif num2 < i:\n",
    "        num3 = num2\n",
    "        num2 = i\n",
    "    elif num3 < i:\n",
    "        num3 = i\n",
    "        \n",
    "        \n",
    "\n",
    "print(num1,num2, num3)\n",
    "    "
   ]
  },
  {
   "cell_type": "code",
   "execution_count": 1,
   "metadata": {},
   "outputs": [],
   "source": [
    "cat5 = []"
   ]
  },
  {
   "cell_type": "code",
   "execution_count": 2,
   "metadata": {},
   "outputs": [
    {
     "name": "stdout",
     "output_type": "stream",
     "text": [
      "cat: invalid option -- '5'\n",
      "Try 'cat --help' for more information.\n"
     ]
    }
   ],
   "source": [
    "cat-5 = []"
   ]
  },
  {
   "cell_type": "code",
   "execution_count": 3,
   "metadata": {},
   "outputs": [],
   "source": [
    "CAT_5 = []"
   ]
  },
  {
   "cell_type": "code",
   "execution_count": 4,
   "metadata": {},
   "outputs": [
    {
     "data": {
      "text/plain": [
       "'int(2.3)+3'"
      ]
     },
     "execution_count": 4,
     "metadata": {},
     "output_type": "execute_result"
    }
   ],
   "source": [
    "'int(2.3)+3'"
   ]
  },
  {
   "cell_type": "code",
   "execution_count": 6,
   "metadata": {},
   "outputs": [],
   "source": [
    "x = \"int(2.3)+3\"\n",
    "p"
   ]
  },
  {
   "cell_type": "code",
   "execution_count": null,
   "metadata": {},
   "outputs": [],
   "source": []
  }
 ],
 "metadata": {
  "kernelspec": {
   "display_name": "Python 3",
   "language": "python",
   "name": "python3"
  },
  "language_info": {
   "codemirror_mode": {
    "name": "ipython",
    "version": 3
   },
   "file_extension": ".py",
   "mimetype": "text/x-python",
   "name": "python",
   "nbconvert_exporter": "python",
   "pygments_lexer": "ipython3",
   "version": "3.8.3"
  }
 },
 "nbformat": 4,
 "nbformat_minor": 4
}
